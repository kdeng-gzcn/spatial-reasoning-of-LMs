{
 "cells": [
  {
   "cell_type": "code",
   "execution_count": 19,
   "id": "22ad5bf2",
   "metadata": {},
   "outputs": [],
   "source": [
    "from pathlib import Path\n",
    "\n",
    "result_dir = Path(\"/home/u5u/kdeng.u5u/spatial-reasoning-of-LMs/result/basic-rela-cls\")"
   ]
  },
  {
   "cell_type": "code",
   "execution_count": 20,
   "id": "1e294a8b",
   "metadata": {},
   "outputs": [],
   "source": [
    "import jsonlines\n",
    "\n",
    "data = []\n",
    "for model_dir in result_dir.iterdir():\n",
    "    if model_dir.is_dir():\n",
    "        inf_file = model_dir / \"inference.jsonl\"\n",
    "        with jsonlines.open(inf_file, mode=\"r\") as reader:\n",
    "            for row in reader:\n",
    "                data.append(row)"
   ]
  },
  {
   "cell_type": "code",
   "execution_count": 21,
   "id": "5ce09fcb",
   "metadata": {},
   "outputs": [],
   "source": [
    "import pandas as pd\n",
    "\n",
    "df = pd.DataFrame(data)"
   ]
  },
  {
   "cell_type": "code",
   "execution_count": 22,
   "id": "eeb83d8f",
   "metadata": {},
   "outputs": [],
   "source": [
    "# define order\n",
    "desired_order = [\n",
    "    'instructblip-vicuna-7b',\n",
    "    \"SpaceQwen2.5-VL-3B-Instruct\",\n",
    "    \"Idefics3-8B-Llama3\",\n",
    "    \"llava-onevision-qwen2-7b-ov-hf\",\n",
    "    \"Qwen2.5-VL-7B-Instruct\",\n",
    "    \"Qwen2.5-VL-32B-Instruct\",\n",
    "    \"Qwen2.5-VL-72B-Instruct\",\n",
    "    \"gpt-4o\",\n",
    "]\n",
    "\n",
    "# change row into cate data type and sort\n",
    "df[\"vlm_id\"] = df[\"vlm_id\"].apply(lambda id: id.split(\"/\")[-1])\n",
    "df['vlm_id'] = pd.Categorical(df['vlm_id'], categories=desired_order, ordered=True)\n",
    "\n"
   ]
  },
  {
   "cell_type": "code",
   "execution_count": 23,
   "id": "afb03d88",
   "metadata": {},
   "outputs": [],
   "source": [
    "from sklearn.metrics import accuracy_score, f1_score\n",
    "\n",
    "def acc_f1(group):\n",
    "    acc = accuracy_score(group[\"cor_idx_shuf\"], group[\"pred\"])\n",
    "    f1 = f1_score(group[\"cor_idx_shuf\"], group[\"pred\"], average=\"weighted\")\n",
    "    return pd.Series({\"Acc.\": acc, \"F1\": f1})"
   ]
  },
  {
   "cell_type": "code",
   "execution_count": 24,
   "id": "3211e818",
   "metadata": {},
   "outputs": [
    {
     "data": {
      "text/plain": [
       "cor_rela\n",
       "left      11.0\n",
       "right     10.0\n",
       "behind     6.0\n",
       "front      6.0\n",
       "above      4.0\n",
       "below      4.0\n",
       "top        2.0\n",
       "Name: count, dtype: float64"
      ]
     },
     "execution_count": 24,
     "metadata": {},
     "output_type": "execute_result"
    }
   ],
   "source": [
    "df[\"cor_rela\"].value_counts() / 8"
   ]
  },
  {
   "cell_type": "code",
   "execution_count": 28,
   "id": "214c844d",
   "metadata": {},
   "outputs": [
    {
     "name": "stderr",
     "output_type": "stream",
     "text": [
      "/local/user/1483801110/ipykernel_40359/2154199529.py:1: FutureWarning: The default of observed=False is deprecated and will be changed to True in a future version of pandas. Pass observed=False to retain current behavior or observed=True to adopt the future default and silence this warning.\n",
      "  table = (df.groupby([\"vlm_id\"]).apply(acc_f1)).round(2)\n",
      "/local/user/1483801110/ipykernel_40359/2154199529.py:1: FutureWarning: DataFrameGroupBy.apply operated on the grouping columns. This behavior is deprecated, and in a future version of pandas the grouping columns will be excluded from the operation. Either pass `include_groups=False` to exclude the groupings or explicitly select the grouping columns after groupby to silence this warning.\n",
      "  table = (df.groupby([\"vlm_id\"]).apply(acc_f1)).round(2)\n"
     ]
    },
    {
     "data": {
      "text/html": [
       "<div>\n",
       "<style scoped>\n",
       "    .dataframe tbody tr th:only-of-type {\n",
       "        vertical-align: middle;\n",
       "    }\n",
       "\n",
       "    .dataframe tbody tr th {\n",
       "        vertical-align: top;\n",
       "    }\n",
       "\n",
       "    .dataframe thead th {\n",
       "        text-align: right;\n",
       "    }\n",
       "</style>\n",
       "<table border=\"1\" class=\"dataframe\">\n",
       "  <thead>\n",
       "    <tr style=\"text-align: right;\">\n",
       "      <th></th>\n",
       "      <th>Acc.</th>\n",
       "      <th>F1</th>\n",
       "    </tr>\n",
       "    <tr>\n",
       "      <th>vlm_id</th>\n",
       "      <th></th>\n",
       "      <th></th>\n",
       "    </tr>\n",
       "  </thead>\n",
       "  <tbody>\n",
       "    <tr>\n",
       "      <th>instructblip-vicuna-7b</th>\n",
       "      <td>0.21</td>\n",
       "      <td>0.20</td>\n",
       "    </tr>\n",
       "    <tr>\n",
       "      <th>SpaceQwen2.5-VL-3B-Instruct</th>\n",
       "      <td>0.30</td>\n",
       "      <td>0.22</td>\n",
       "    </tr>\n",
       "    <tr>\n",
       "      <th>Idefics3-8B-Llama3</th>\n",
       "      <td>0.40</td>\n",
       "      <td>0.38</td>\n",
       "    </tr>\n",
       "    <tr>\n",
       "      <th>llava-onevision-qwen2-7b-ov-hf</th>\n",
       "      <td>0.56</td>\n",
       "      <td>0.56</td>\n",
       "    </tr>\n",
       "    <tr>\n",
       "      <th>Qwen2.5-VL-7B-Instruct</th>\n",
       "      <td>0.30</td>\n",
       "      <td>0.28</td>\n",
       "    </tr>\n",
       "    <tr>\n",
       "      <th>Qwen2.5-VL-32B-Instruct</th>\n",
       "      <td>0.67</td>\n",
       "      <td>0.68</td>\n",
       "    </tr>\n",
       "    <tr>\n",
       "      <th>Qwen2.5-VL-72B-Instruct</th>\n",
       "      <td>0.70</td>\n",
       "      <td>0.69</td>\n",
       "    </tr>\n",
       "    <tr>\n",
       "      <th>gpt-4o</th>\n",
       "      <td>0.63</td>\n",
       "      <td>0.63</td>\n",
       "    </tr>\n",
       "  </tbody>\n",
       "</table>\n",
       "</div>"
      ],
      "text/plain": [
       "                                Acc.    F1\n",
       "vlm_id                                    \n",
       "instructblip-vicuna-7b          0.21  0.20\n",
       "SpaceQwen2.5-VL-3B-Instruct     0.30  0.22\n",
       "Idefics3-8B-Llama3              0.40  0.38\n",
       "llava-onevision-qwen2-7b-ov-hf  0.56  0.56\n",
       "Qwen2.5-VL-7B-Instruct          0.30  0.28\n",
       "Qwen2.5-VL-32B-Instruct         0.67  0.68\n",
       "Qwen2.5-VL-72B-Instruct         0.70  0.69\n",
       "gpt-4o                          0.63  0.63"
      ]
     },
     "execution_count": 28,
     "metadata": {},
     "output_type": "execute_result"
    }
   ],
   "source": [
    "table = (df.groupby([\"vlm_id\"]).apply(acc_f1)).round(2)\n",
    "table"
   ]
  },
  {
   "cell_type": "code",
   "execution_count": 26,
   "id": "ec49468a",
   "metadata": {},
   "outputs": [],
   "source": [
    "# rename the columns\n"
   ]
  },
  {
   "cell_type": "code",
   "execution_count": 29,
   "id": "e58f8933",
   "metadata": {},
   "outputs": [
    {
     "name": "stdout",
     "output_type": "stream",
     "text": [
      "\\begin{table}[tb]\n",
      "\\caption{Performance of basic relation classification task.}\n",
      "\\label{tab:basic-rela-cls}\n",
      "\\begin{tabular}{lcc}\n",
      "\\toprule\n",
      " & Acc. & F1 \\\\\n",
      "vlm_id &  &  \\\\\n",
      "\\midrule\n",
      "instructblip-vicuna-7b & 0.21 & 0.20 \\\\\n",
      "SpaceQwen2.5-VL-3B-Instruct & 0.30 & 0.22 \\\\\n",
      "Idefics3-8B-Llama3 & 0.40 & 0.38 \\\\\n",
      "llava-onevision-qwen2-7b-ov-hf & 0.56 & 0.56 \\\\\n",
      "Qwen2.5-VL-7B-Instruct & 0.30 & 0.28 \\\\\n",
      "Qwen2.5-VL-32B-Instruct & 0.67 & 0.68 \\\\\n",
      "Qwen2.5-VL-72B-Instruct & 0.70 & 0.69 \\\\\n",
      "gpt-4o & 0.63 & 0.63 \\\\\n",
      "\\bottomrule\n",
      "\\end{tabular}\n",
      "\\end{table}\n",
      "\n"
     ]
    }
   ],
   "source": [
    "print(table.to_latex(\n",
    "    escape=False, \n",
    "    index=True, \n",
    "    float_format=\"%.2f\",\n",
    "    column_format=\"lcc\",\n",
    "    caption=\"Performance of basic relation classification task.\",\n",
    "    label=\"tab:basic-rela-cls\",\n",
    "    position=\"tb\",\n",
    "))"
   ]
  },
  {
   "cell_type": "code",
   "execution_count": null,
   "id": "f4dcb50c",
   "metadata": {},
   "outputs": [],
   "source": []
  }
 ],
 "metadata": {
  "kernelspec": {
   "display_name": "spatial_reasoning_env",
   "language": "python",
   "name": "python3"
  },
  "language_info": {
   "codemirror_mode": {
    "name": "ipython",
    "version": 3
   },
   "file_extension": ".py",
   "mimetype": "text/x-python",
   "name": "python",
   "nbconvert_exporter": "python",
   "pygments_lexer": "ipython3",
   "version": "3.10.18"
  }
 },
 "nbformat": 4,
 "nbformat_minor": 5
}
