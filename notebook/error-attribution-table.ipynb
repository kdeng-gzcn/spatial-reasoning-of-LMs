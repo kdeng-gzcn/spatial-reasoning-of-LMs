{
 "cells": [
  {
   "cell_type": "markdown",
   "id": "c2f1dc1b",
   "metadata": {},
   "source": [
    "# Error Attribution\n",
    "\n",
    "This notebook is for summarizing error type distribution. And make plots on paper."
   ]
  },
  {
   "cell_type": "code",
   "execution_count": 66,
   "id": "dc60fcd2",
   "metadata": {},
   "outputs": [],
   "source": [
    "from pathlib import Path\n",
    "\n",
    "res_file = Path(\"/home/u5u/kdeng.u5u/spatial-reasoning-of-LMs/result/error-attribution/error_attribution.jsonl\")\n",
    "\n",
    "import pandas as pd\n",
    "\n",
    "data = pd.read_json(res_file, lines=True)"
   ]
  },
  {
   "cell_type": "code",
   "execution_count": 67,
   "id": "214d0183",
   "metadata": {},
   "outputs": [
    {
     "data": {
      "text/html": [
       "<div>\n",
       "<style scoped>\n",
       "    .dataframe tbody tr th:only-of-type {\n",
       "        vertical-align: middle;\n",
       "    }\n",
       "\n",
       "    .dataframe tbody tr th {\n",
       "        vertical-align: top;\n",
       "    }\n",
       "\n",
       "    .dataframe thead th {\n",
       "        text-align: right;\n",
       "    }\n",
       "</style>\n",
       "<table border=\"1\" class=\"dataframe\">\n",
       "  <thead>\n",
       "    <tr style=\"text-align: right;\">\n",
       "      <th></th>\n",
       "      <th>scene</th>\n",
       "      <th>pair</th>\n",
       "      <th>tx</th>\n",
       "      <th>ty</th>\n",
       "      <th>tz</th>\n",
       "      <th>theta</th>\n",
       "      <th>phi</th>\n",
       "      <th>psi</th>\n",
       "      <th>tx_text</th>\n",
       "      <th>ty_text</th>\n",
       "      <th>...</th>\n",
       "      <th>hash_id</th>\n",
       "      <th>pred_val</th>\n",
       "      <th>label_val</th>\n",
       "      <th>is_valid</th>\n",
       "      <th>distance</th>\n",
       "      <th>angle</th>\n",
       "      <th>tau</th>\n",
       "      <th>num_of_ref_obj</th>\n",
       "      <th>ref_obj</th>\n",
       "      <th>error_type</th>\n",
       "    </tr>\n",
       "  </thead>\n",
       "  <tbody>\n",
       "    <tr>\n",
       "      <th>0</th>\n",
       "      <td>scene0789_00</td>\n",
       "      <td>000671-000690</td>\n",
       "      <td>-0.078962</td>\n",
       "      <td>-0.035289</td>\n",
       "      <td>0.410650</td>\n",
       "      <td>1.217677</td>\n",
       "      <td>0.165456</td>\n",
       "      <td>1.330545</td>\n",
       "      <td>left</td>\n",
       "      <td>up</td>\n",
       "      <td>...</td>\n",
       "      <td>None</td>\n",
       "      <td>NaN</td>\n",
       "      <td>NaN</td>\n",
       "      <td>NaN</td>\n",
       "      <td>NaN</td>\n",
       "      <td>NaN</td>\n",
       "      <td>NaN</td>\n",
       "      <td>2</td>\n",
       "      <td>[hallway, details on the walls]</td>\n",
       "      <td>[PE, SRE]</td>\n",
       "    </tr>\n",
       "    <tr>\n",
       "      <th>1</th>\n",
       "      <td>None</td>\n",
       "      <td>009358-009373</td>\n",
       "      <td>0.144591</td>\n",
       "      <td>-0.050708</td>\n",
       "      <td>0.415012</td>\n",
       "      <td>-3.263284</td>\n",
       "      <td>4.765806</td>\n",
       "      <td>1.751698</td>\n",
       "      <td>right</td>\n",
       "      <td>up</td>\n",
       "      <td>...</td>\n",
       "      <td>578511c8a9</td>\n",
       "      <td>NaN</td>\n",
       "      <td>NaN</td>\n",
       "      <td>NaN</td>\n",
       "      <td>NaN</td>\n",
       "      <td>NaN</td>\n",
       "      <td>NaN</td>\n",
       "      <td>1</td>\n",
       "      <td>[objects]</td>\n",
       "      <td>[SRE]</td>\n",
       "    </tr>\n",
       "    <tr>\n",
       "      <th>2</th>\n",
       "      <td>scene0783_00</td>\n",
       "      <td>001519-001546</td>\n",
       "      <td>0.041767</td>\n",
       "      <td>0.039552</td>\n",
       "      <td>0.408483</td>\n",
       "      <td>-0.962937</td>\n",
       "      <td>-1.202116</td>\n",
       "      <td>2.628469</td>\n",
       "      <td>right</td>\n",
       "      <td>down</td>\n",
       "      <td>...</td>\n",
       "      <td>None</td>\n",
       "      <td>NaN</td>\n",
       "      <td>NaN</td>\n",
       "      <td>NaN</td>\n",
       "      <td>NaN</td>\n",
       "      <td>NaN</td>\n",
       "      <td>NaN</td>\n",
       "      <td>1</td>\n",
       "      <td>[view of the scene]</td>\n",
       "      <td>[PE]</td>\n",
       "    </tr>\n",
       "    <tr>\n",
       "      <th>3</th>\n",
       "      <td>scene0709_00</td>\n",
       "      <td>000450-000478</td>\n",
       "      <td>0.058965</td>\n",
       "      <td>-0.077797</td>\n",
       "      <td>0.407738</td>\n",
       "      <td>-1.108655</td>\n",
       "      <td>3.592630</td>\n",
       "      <td>-2.971862</td>\n",
       "      <td>right</td>\n",
       "      <td>up</td>\n",
       "      <td>...</td>\n",
       "      <td>None</td>\n",
       "      <td>NaN</td>\n",
       "      <td>NaN</td>\n",
       "      <td>NaN</td>\n",
       "      <td>NaN</td>\n",
       "      <td>NaN</td>\n",
       "      <td>NaN</td>\n",
       "      <td>1</td>\n",
       "      <td>[objects]</td>\n",
       "      <td>[SRE]</td>\n",
       "    </tr>\n",
       "    <tr>\n",
       "      <th>4</th>\n",
       "      <td>scene0709_00</td>\n",
       "      <td>000450-000478</td>\n",
       "      <td>0.058965</td>\n",
       "      <td>-0.077797</td>\n",
       "      <td>0.407738</td>\n",
       "      <td>-1.108655</td>\n",
       "      <td>3.592630</td>\n",
       "      <td>-2.971862</td>\n",
       "      <td>right</td>\n",
       "      <td>up</td>\n",
       "      <td>...</td>\n",
       "      <td>None</td>\n",
       "      <td>NaN</td>\n",
       "      <td>NaN</td>\n",
       "      <td>NaN</td>\n",
       "      <td>NaN</td>\n",
       "      <td>NaN</td>\n",
       "      <td>NaN</td>\n",
       "      <td>1</td>\n",
       "      <td>[objects]</td>\n",
       "      <td>[SRE]</td>\n",
       "    </tr>\n",
       "  </tbody>\n",
       "</table>\n",
       "<p>5 rows × 40 columns</p>\n",
       "</div>"
      ],
      "text/plain": [
       "          scene           pair        tx        ty        tz     theta  \\\n",
       "0  scene0789_00  000671-000690 -0.078962 -0.035289  0.410650  1.217677   \n",
       "1          None  009358-009373  0.144591 -0.050708  0.415012 -3.263284   \n",
       "2  scene0783_00  001519-001546  0.041767  0.039552  0.408483 -0.962937   \n",
       "3  scene0709_00  000450-000478  0.058965 -0.077797  0.407738 -1.108655   \n",
       "4  scene0709_00  000450-000478  0.058965 -0.077797  0.407738 -1.108655   \n",
       "\n",
       "        phi       psi tx_text ty_text  ...     hash_id pred_val label_val  \\\n",
       "0  0.165456  1.330545    left      up  ...        None      NaN       NaN   \n",
       "1  4.765806  1.751698   right      up  ...  578511c8a9      NaN       NaN   \n",
       "2 -1.202116  2.628469   right    down  ...        None      NaN       NaN   \n",
       "3  3.592630 -2.971862   right      up  ...        None      NaN       NaN   \n",
       "4  3.592630 -2.971862   right      up  ...        None      NaN       NaN   \n",
       "\n",
       "  is_valid distance angle  tau num_of_ref_obj  \\\n",
       "0      NaN      NaN   NaN  NaN              2   \n",
       "1      NaN      NaN   NaN  NaN              1   \n",
       "2      NaN      NaN   NaN  NaN              1   \n",
       "3      NaN      NaN   NaN  NaN              1   \n",
       "4      NaN      NaN   NaN  NaN              1   \n",
       "\n",
       "                           ref_obj error_type  \n",
       "0  [hallway, details on the walls]  [PE, SRE]  \n",
       "1                        [objects]      [SRE]  \n",
       "2              [view of the scene]       [PE]  \n",
       "3                        [objects]      [SRE]  \n",
       "4                        [objects]      [SRE]  \n",
       "\n",
       "[5 rows x 40 columns]"
      ]
     },
     "execution_count": 67,
     "metadata": {},
     "output_type": "execute_result"
    }
   ],
   "source": [
    "data.head()"
   ]
  },
  {
   "cell_type": "code",
   "execution_count": 68,
   "id": "48bd58ed",
   "metadata": {},
   "outputs": [
    {
     "data": {
      "text/plain": [
       "num_of_ref_obj\n",
       "1    64\n",
       "2    49\n",
       "3     6\n",
       "0     1\n",
       "Name: count, dtype: int64"
      ]
     },
     "execution_count": 68,
     "metadata": {},
     "output_type": "execute_result"
    }
   ],
   "source": [
    "data[\"num_of_ref_obj\"].value_counts()"
   ]
  },
  {
   "cell_type": "code",
   "execution_count": 69,
   "id": "632d0d89",
   "metadata": {},
   "outputs": [
    {
     "data": {
      "text/plain": [
       "ref_obj\n",
       "objects              29\n",
       "chair                12\n",
       "desk                  9\n",
       "chairs                8\n",
       "chessboard            7\n",
       "                     ..\n",
       "shower curtain        1\n",
       "rack with bottles     1\n",
       "printer               1\n",
       "boxes                 1\n",
       "sink                  1\n",
       "Name: count, Length: 81, dtype: int64"
      ]
     },
     "execution_count": 69,
     "metadata": {},
     "output_type": "execute_result"
    }
   ],
   "source": [
    "data.explode(\"ref_obj\")[\"ref_obj\"].value_counts()"
   ]
  },
  {
   "cell_type": "code",
   "execution_count": 70,
   "id": "12fb9770",
   "metadata": {},
   "outputs": [],
   "source": [
    "exploded_data = data.explode(\"error_type\")\n",
    "\n",
    "exploded_data[\"error_type\"] = pd.Categorical(exploded_data[\"error_type\"], categories=[\"PE\", \"SRE\", \"LRE\", \"PTE\"], ordered=True)\n",
    "legend_map = {\n",
    "    \"PE\": \"Perception Error\",\n",
    "    \"SRE\": \"Spatial Relation Error\",\n",
    "    \"LRE\": \"Logical Reasoning Error\",\n",
    "    \"PTE\": \"Pespective Transformation Error\",\n",
    "}\n",
    "exploded_data[\"error_type\"] = exploded_data[\"error_type\"].map(legend_map)\n",
    "\n",
    "exploded_data[\"eval_metric\"] = pd.Categorical(exploded_data[\"eval_metric\"], categories=[\"theta\", \"phi\", \"psi\", \"tx\", \"ty\", \"tz\"], ordered=True)\n",
    "dof_map = {\n",
    "    \"theta\": \"$\\\\theta$\",\n",
    "    \"phi\": \"$\\phi$\",\n",
    "    \"psi\": \"$\\psi$\",\n",
    "    \"tx\": \"$t_x$\",\n",
    "    \"ty\": \"$t_y$\",\n",
    "    \"tz\": \"$t_z$\",\n",
    "}\n",
    "exploded_data[\"eval_metric\"] = exploded_data[\"eval_metric\"].map(dof_map)"
   ]
  },
  {
   "cell_type": "code",
   "execution_count": 71,
   "id": "5cf239db",
   "metadata": {},
   "outputs": [
    {
     "data": {
      "text/plain": [
       "<Axes: ylabel='count'>"
      ]
     },
     "execution_count": 71,
     "metadata": {},
     "output_type": "execute_result"
    },
    {
     "data": {
      "image/png": "[encoded data removed]",
      "text/plain": [
       "<Figure size 640x480 with 1 Axes>"
      ]
     },
     "metadata": {},
     "output_type": "display_data"
    }
   ],
   "source": [
    "exploded_data[\"error_type\"].value_counts().sort_index().plot.pie(autopct='%1.1f%%', startangle=90)"
   ]
  },
  {
   "cell_type": "code",
   "execution_count": 72,
   "id": "c437addb",
   "metadata": {},
   "outputs": [
    {
     "name": "stderr",
     "output_type": "stream",
     "text": [
      "/local/user/1483801110/ipykernel_29846/840049550.py:1: FutureWarning: The default of observed=False is deprecated and will be changed to True in a future version of pandas. Pass observed=False to retain current behavior or observed=True to adopt the future default and silence this warning.\n",
      "  group_data = exploded_data.groupby([\"eval_metric\", \"error_type\"]).size().unstack(fill_value=0)\n"
     ]
    },
    {
     "data": {
      "text/plain": [
       "<Axes: ylabel='eval_metric'>"
      ]
     },
     "execution_count": 72,
     "metadata": {},
     "output_type": "execute_result"
    },
    {
     "data": {
      "image/png": "[encoded data removed]",
      "text/plain": [
       "<Figure size 640x480 with 1 Axes>"
      ]
     },
     "metadata": {},
     "output_type": "display_data"
    }
   ],
   "source": [
    "group_data = exploded_data.groupby([\"eval_metric\", \"error_type\"]).size().unstack(fill_value=0)\n",
    "stack_bar_data = group_data.div(group_data.sum(axis=1), axis=0) * 100\n",
    "stack_bar_data.plot(kind=\"barh\", stacked=True)"
   ]
  },
  {
   "cell_type": "code",
   "execution_count": 73,
   "id": "21f843e0",
   "metadata": {},
   "outputs": [
    {
     "data": {
      "image/png": "[encoded data removed]",
      "text/plain": [
       "<Figure size 1000x500 with 2 Axes>"
      ]
     },
     "metadata": {},
     "output_type": "display_data"
    }
   ],
   "source": [
    "import matplotlib.pyplot as plt\n",
    "from matplotlib import rcParams\n",
    "\n",
    "rcParams['font.family'] = 'DejaVu Serif'\n",
    "rcParams['font.size'] = 16\n",
    "\n",
    "colors = plt.cm.Set2.colors\n",
    "\n",
    "# 创建一个包含两个子图的图表\n",
    "fig, (ax2, ax1) = plt.subplots(1, 2, figsize=(10, 5), gridspec_kw={'width_ratios': [1, 1]})\n",
    "\n",
    "stack_bar_data.plot(kind=\"barh\", stacked=True, ax=ax1, color=colors[:len(stack_bar_data.columns)])\n",
    "ax1.set_xlabel('Percentage (%)')\n",
    "ax1.set_title('Error Distribution by DoF')\n",
    "ax1.set_ylabel(\"\")\n",
    "ax1.get_legend().set_visible(False)\n",
    "ax1.invert_yaxis()\n",
    "ax1.spines['right'].set_visible(False)\n",
    "ax1.spines['top'].set_visible(False)\n",
    "\n",
    "# ax2.pie(sizes, labels=labels, autopct='%1.1f%%', startangle=90, \n",
    "#         colors=['#1f77b4', '#ff7f0e', '#2ca02c', '#d62728'])\n",
    "\n",
    "exploded_data[\"error_type\"].value_counts().sort_index().plot.pie(autopct='%1.1f%%', startangle=90, ax=ax2, labels=None, colors=colors[:len(exploded_data[\"error_type\"].value_counts())], pctdistance=.78)\n",
    "ax2.axis('equal')\n",
    "ax2.set_title('Overall Error Distribution')\n",
    "ax2.set_ylabel(\"\")\n",
    "\n",
    "handles, labels = ax1.get_legend_handles_labels()\n",
    "fig.legend(handles, labels, loc='upper center', bbox_to_anchor=(0.5, 0), ncol=2)\n",
    "\n",
    "# 调整布局，避免图形重叠 \n",
    "plt.tight_layout()\n",
    "plt.savefig(\"/home/u5u/kdeng.u5u/spatial-reasoning-of-LMs/result/error-attribution/error-dist.pdf\", dpi=200, bbox_inches='tight')\n",
    "\n",
    "plt.show()"
   ]
  },
  {
   "cell_type": "code",
   "execution_count": null,
   "id": "02833ff1",
   "metadata": {},
   "outputs": [],
   "source": []
  },
  {
   "cell_type": "markdown",
   "id": "1e4ed26d",
   "metadata": {},
   "source": [
    "## Test Font Family"
   ]
  },
  {
   "cell_type": "code",
   "execution_count": 74,
   "id": "2868928a",
   "metadata": {},
   "outputs": [
    {
     "data": {
      "text/html": [
       "<span style='font-family: DejaVu Sans; font-size: 17px'> DejaVu Sans</span>"
      ],
      "text/plain": [
       "<IPython.core.display.HTML object>"
      ]
     },
     "metadata": {},
     "output_type": "display_data"
    },
    {
     "data": {
      "text/html": [
       "<span style='font-family: DejaVu Sans Display; font-size: 17px'> DejaVu Sans Display</span>"
      ],
      "text/plain": [
       "<IPython.core.display.HTML object>"
      ]
     },
     "metadata": {},
     "output_type": "display_data"
    },
    {
     "data": {
      "text/html": [
       "<span style='font-family: DejaVu Sans Mono; font-size: 17px'> DejaVu Sans Mono</span>"
      ],
      "text/plain": [
       "<IPython.core.display.HTML object>"
      ]
     },
     "metadata": {},
     "output_type": "display_data"
    },
    {
     "data": {
      "text/html": [
       "<span style='font-family: DejaVu Serif; font-size: 17px'> DejaVu Serif</span>"
      ],
      "text/plain": [
       "<IPython.core.display.HTML object>"
      ]
     },
     "metadata": {},
     "output_type": "display_data"
    },
    {
     "data": {
      "text/html": [
       "<span style='font-family: DejaVu Serif Display; font-size: 17px'> DejaVu Serif Display</span>"
      ],
      "text/plain": [
       "<IPython.core.display.HTML object>"
      ]
     },
     "metadata": {},
     "output_type": "display_data"
    },
    {
     "data": {
      "text/html": [
       "<span style='font-family: East Syriac Adiabene; font-size: 17px'> East Syriac Adiabene</span>"
      ],
      "text/plain": [
       "<IPython.core.display.HTML object>"
      ]
     },
     "metadata": {},
     "output_type": "display_data"
    },
    {
     "data": {
      "text/html": [
       "<span style='font-family: East Syriac Ctesiphon; font-size: 17px'> East Syriac Ctesiphon</span>"
      ],
      "text/plain": [
       "<IPython.core.display.HTML object>"
      ]
     },
     "metadata": {},
     "output_type": "display_data"
    },
    {
     "data": {
      "text/html": [
       "<span style='font-family: Estrangelo Antioch; font-size: 17px'> Estrangelo Antioch</span>"
      ],
      "text/plain": [
       "<IPython.core.display.HTML object>"
      ]
     },
     "metadata": {},
     "output_type": "display_data"
    },
    {
     "data": {
      "text/html": [
       "<span style='font-family: Estrangelo Edessa; font-size: 17px'> Estrangelo Edessa</span>"
      ],
      "text/plain": [
       "<IPython.core.display.HTML object>"
      ]
     },
     "metadata": {},
     "output_type": "display_data"
    },
    {
     "data": {
      "text/html": [
       "<span style='font-family: Estrangelo Midyat; font-size: 17px'> Estrangelo Midyat</span>"
      ],
      "text/plain": [
       "<IPython.core.display.HTML object>"
      ]
     },
     "metadata": {},
     "output_type": "display_data"
    },
    {
     "data": {
      "text/html": [
       "<span style='font-family: Estrangelo Nisibin; font-size: 17px'> Estrangelo Nisibin</span>"
      ],
      "text/plain": [
       "<IPython.core.display.HTML object>"
      ]
     },
     "metadata": {},
     "output_type": "display_data"
    },
    {
     "data": {
      "text/html": [
       "<span style='font-family: Estrangelo Nisibin Outline; font-size: 17px'> Estrangelo Nisibin Outline</span>"
      ],
      "text/plain": [
       "<IPython.core.display.HTML object>"
      ]
     },
     "metadata": {},
     "output_type": "display_data"
    },
    {
     "data": {
      "text/html": [
       "<span style='font-family: Estrangelo Quenneshrin; font-size: 17px'> Estrangelo Quenneshrin</span>"
      ],
      "text/plain": [
       "<IPython.core.display.HTML object>"
      ]
     },
     "metadata": {},
     "output_type": "display_data"
    },
    {
     "data": {
      "text/html": [
       "<span style='font-family: Estrangelo Talada; font-size: 17px'> Estrangelo Talada</span>"
      ],
      "text/plain": [
       "<IPython.core.display.HTML object>"
      ]
     },
     "metadata": {},
     "output_type": "display_data"
    },
    {
     "data": {
      "text/html": [
       "<span style='font-family: Estrangelo TurAbdin; font-size: 17px'> Estrangelo TurAbdin</span>"
      ],
      "text/plain": [
       "<IPython.core.display.HTML object>"
      ]
     },
     "metadata": {},
     "output_type": "display_data"
    },
    {
     "data": {
      "text/html": [
       "<span style='font-family: Goha-Tibeb Zemen; font-size: 17px'> Goha-Tibeb Zemen</span>"
      ],
      "text/plain": [
       "<IPython.core.display.HTML object>"
      ]
     },
     "metadata": {},
     "output_type": "display_data"
    },
    {
     "data": {
      "text/html": [
       "<span style='font-family: Liberation Mono; font-size: 17px'> Liberation Mono</span>"
      ],
      "text/plain": [
       "<IPython.core.display.HTML object>"
      ]
     },
     "metadata": {},
     "output_type": "display_data"
    },
    {
     "data": {
      "text/html": [
       "<span style='font-family: Liberation Sans; font-size: 17px'> Liberation Sans</span>"
      ],
      "text/plain": [
       "<IPython.core.display.HTML object>"
      ]
     },
     "metadata": {},
     "output_type": "display_data"
    },
    {
     "data": {
      "text/html": [
       "<span style='font-family: Liberation Sans Narrow; font-size: 17px'> Liberation Sans Narrow</span>"
      ],
      "text/plain": [
       "<IPython.core.display.HTML object>"
      ]
     },
     "metadata": {},
     "output_type": "display_data"
    },
    {
     "data": {
      "text/html": [
       "<span style='font-family: Liberation Serif; font-size: 17px'> Liberation Serif</span>"
      ],
      "text/plain": [
       "<IPython.core.display.HTML object>"
      ]
     },
     "metadata": {},
     "output_type": "display_data"
    },
    {
     "data": {
      "text/html": [
       "<span style='font-family: Luxi Mono; font-size: 17px'> Luxi Mono</span>"
      ],
      "text/plain": [
       "<IPython.core.display.HTML object>"
      ]
     },
     "metadata": {},
     "output_type": "display_data"
    },
    {
     "data": {
      "text/html": [
       "<span style='font-family: Luxi Sans; font-size: 17px'> Luxi Sans</span>"
      ],
      "text/plain": [
       "<IPython.core.display.HTML object>"
      ]
     },
     "metadata": {},
     "output_type": "display_data"
    },
    {
     "data": {
      "text/html": [
       "<span style='font-family: Luxi Serif; font-size: 17px'> Luxi Serif</span>"
      ],
      "text/plain": [
       "<IPython.core.display.HTML object>"
      ]
     },
     "metadata": {},
     "output_type": "display_data"
    },
    {
     "data": {
      "text/html": [
       "<span style='font-family: STIXGeneral; font-size: 17px'> STIXGeneral</span>"
      ],
      "text/plain": [
       "<IPython.core.display.HTML object>"
      ]
     },
     "metadata": {},
     "output_type": "display_data"
    },
    {
     "data": {
      "text/html": [
       "<span style='font-family: STIXNonUnicode; font-size: 17px'> STIXNonUnicode</span>"
      ],
      "text/plain": [
       "<IPython.core.display.HTML object>"
      ]
     },
     "metadata": {},
     "output_type": "display_data"
    },
    {
     "data": {
      "text/html": [
       "<span style='font-family: STIXSizeFiveSym; font-size: 17px'> STIXSizeFiveSym</span>"
      ],
      "text/plain": [
       "<IPython.core.display.HTML object>"
      ]
     },
     "metadata": {},
     "output_type": "display_data"
    },
    {
     "data": {
      "text/html": [
       "<span style='font-family: STIXSizeFourSym; font-size: 17px'> STIXSizeFourSym</span>"
      ],
      "text/plain": [
       "<IPython.core.display.HTML object>"
      ]
     },
     "metadata": {},
     "output_type": "display_data"
    },
    {
     "data": {
      "text/html": [
       "<span style='font-family: STIXSizeOneSym; font-size: 17px'> STIXSizeOneSym</span>"
      ],
      "text/plain": [
       "<IPython.core.display.HTML object>"
      ]
     },
     "metadata": {},
     "output_type": "display_data"
    },
    {
     "data": {
      "text/html": [
       "<span style='font-family: STIXSizeThreeSym; font-size: 17px'> STIXSizeThreeSym</span>"
      ],
      "text/plain": [
       "<IPython.core.display.HTML object>"
      ]
     },
     "metadata": {},
     "output_type": "display_data"
    },
    {
     "data": {
      "text/html": [
       "<span style='font-family: STIXSizeTwoSym; font-size: 17px'> STIXSizeTwoSym</span>"
      ],
      "text/plain": [
       "<IPython.core.display.HTML object>"
      ]
     },
     "metadata": {},
     "output_type": "display_data"
    },
    {
     "data": {
      "text/html": [
       "<span style='font-family: Serto Batnan; font-size: 17px'> Serto Batnan</span>"
      ],
      "text/plain": [
       "<IPython.core.display.HTML object>"
      ]
     },
     "metadata": {},
     "output_type": "display_data"
    },
    {
     "data": {
      "text/html": [
       "<span style='font-family: Serto Jerusalem; font-size: 17px'> Serto Jerusalem</span>"
      ],
      "text/plain": [
       "<IPython.core.display.HTML object>"
      ]
     },
     "metadata": {},
     "output_type": "display_data"
    },
    {
     "data": {
      "text/html": [
       "<span style='font-family: Serto Jerusalem Outline; font-size: 17px'> Serto Jerusalem Outline</span>"
      ],
      "text/plain": [
       "<IPython.core.display.HTML object>"
      ]
     },
     "metadata": {},
     "output_type": "display_data"
    },
    {
     "data": {
      "text/html": [
       "<span style='font-family: Serto Kharput; font-size: 17px'> Serto Kharput</span>"
      ],
      "text/plain": [
       "<IPython.core.display.HTML object>"
      ]
     },
     "metadata": {},
     "output_type": "display_data"
    },
    {
     "data": {
      "text/html": [
       "<span style='font-family: Serto Malankara; font-size: 17px'> Serto Malankara</span>"
      ],
      "text/plain": [
       "<IPython.core.display.HTML object>"
      ]
     },
     "metadata": {},
     "output_type": "display_data"
    },
    {
     "data": {
      "text/html": [
       "<span style='font-family: Serto Mardin; font-size: 17px'> Serto Mardin</span>"
      ],
      "text/plain": [
       "<IPython.core.display.HTML object>"
      ]
     },
     "metadata": {},
     "output_type": "display_data"
    },
    {
     "data": {
      "text/html": [
       "<span style='font-family: Serto Urhoy; font-size: 17px'> Serto Urhoy</span>"
      ],
      "text/plain": [
       "<IPython.core.display.HTML object>"
      ]
     },
     "metadata": {},
     "output_type": "display_data"
    },
    {
     "data": {
      "text/html": [
       "<span style='font-family: cmb10; font-size: 17px'> cmb10</span>"
      ],
      "text/plain": [
       "<IPython.core.display.HTML object>"
      ]
     },
     "metadata": {},
     "output_type": "display_data"
    },
    {
     "data": {
      "text/html": [
       "<span style='font-family: cmex10; font-size: 17px'> cmex10</span>"
      ],
      "text/plain": [
       "<IPython.core.display.HTML object>"
      ]
     },
     "metadata": {},
     "output_type": "display_data"
    },
    {
     "data": {
      "text/html": [
       "<span style='font-family: cmmi10; font-size: 17px'> cmmi10</span>"
      ],
      "text/plain": [
       "<IPython.core.display.HTML object>"
      ]
     },
     "metadata": {},
     "output_type": "display_data"
    },
    {
     "data": {
      "text/html": [
       "<span style='font-family: cmr10; font-size: 17px'> cmr10</span>"
      ],
      "text/plain": [
       "<IPython.core.display.HTML object>"
      ]
     },
     "metadata": {},
     "output_type": "display_data"
    },
    {
     "data": {
      "text/html": [
       "<span style='font-family: cmss10; font-size: 17px'> cmss10</span>"
      ],
      "text/plain": [
       "<IPython.core.display.HTML object>"
      ]
     },
     "metadata": {},
     "output_type": "display_data"
    },
    {
     "data": {
      "text/html": [
       "<span style='font-family: cmsy10; font-size: 17px'> cmsy10</span>"
      ],
      "text/plain": [
       "<IPython.core.display.HTML object>"
      ]
     },
     "metadata": {},
     "output_type": "display_data"
    },
    {
     "data": {
      "text/html": [
       "<span style='font-family: cmtt10; font-size: 17px'> cmtt10</span>"
      ],
      "text/plain": [
       "<IPython.core.display.HTML object>"
      ]
     },
     "metadata": {},
     "output_type": "display_data"
    }
   ],
   "source": [
    "import matplotlib\n",
    "from IPython.core.display import HTML\n",
    "\n",
    "fonts = []\n",
    "for i in matplotlib.font_manager.fontManager.ttflist:\n",
    "    fonts.append(i.name)\n",
    "\n",
    "for f in sorted(set(fonts)):\n",
    "    display(HTML( \"<span style='font-family: {font}; font-size: 17px'> {font}</span>\".format(font=f) ))"
   ]
  },
  {
   "cell_type": "code",
   "execution_count": null,
   "id": "50e0712e",
   "metadata": {},
   "outputs": [],
   "source": []
  }
 ],
 "metadata": {
  "kernelspec": {
   "display_name": "spatial_reasoning_env",
   "language": "python",
   "name": "python3"
  },
  "language_info": {
   "codemirror_mode": {
    "name": "ipython",
    "version": 3
   },
   "file_extension": ".py",
   "mimetype": "text/x-python",
   "name": "python",
   "nbconvert_exporter": "python",
   "pygments_lexer": "ipython3",
   "version": "3.10.16"
  }
 },
 "nbformat": 4,
 "nbformat_minor": 5
}
