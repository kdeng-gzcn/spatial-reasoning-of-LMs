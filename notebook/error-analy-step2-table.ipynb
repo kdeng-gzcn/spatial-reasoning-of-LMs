{
 "cells": [
  {
   "cell_type": "markdown",
   "id": "1a759447",
   "metadata": {},
   "source": [
    "\n",
    "# Error Analysis Step2\n",
    "\n",
    "In this notebook, we make tables for showing results of error-analysis-step2:\n",
    "1. multi-models\n",
    "2. 2 prompt types\n",
    "3. use acc and f1 as metriecs"
   ]
  },
  {
   "cell_type": "code",
   "execution_count": 1,
   "id": "7fafdc59",
   "metadata": {},
   "outputs": [],
   "source": [
    "from pathlib import Path\n",
    "import jsonlines\n",
    "\n",
    "res_dir = Path(\"/home/u5u/kdeng.u5u/spatial-reasoning-of-LMs/result/error-analysis-step2\")\n",
    "\n",
    "def read_res(dir: Path):\n",
    "    data = []\n",
    "    for model_dir in res_dir.iterdir():\n",
    "        if model_dir.is_dir():\n",
    "            inf_file = model_dir / \"inference.jsonl\"\n",
    "            with jsonlines.open(inf_file) as reader:\n",
    "                for item in reader:\n",
    "                    data.append(item)\n",
    "\n",
    "    return data\n",
    "\n",
    "res = read_res(res_dir)"
   ]
  },
  {
   "cell_type": "code",
   "execution_count": 2,
   "id": "0a114d7b",
   "metadata": {},
   "outputs": [],
   "source": [
    "import pandas as pd\n",
    "\n",
    "df = pd.DataFrame(res)"
   ]
  },
  {
   "cell_type": "code",
   "execution_count": 3,
   "id": "06a74c26",
   "metadata": {},
   "outputs": [
    {
     "data": {
      "text/plain": [
       "vlm_id\n",
       "Qwen/Qwen2.5-VL-72B-Instruct               54\n",
       "HuggingFaceM4/Idefics3-8B-Llama3           54\n",
       "remyxai/SpaceQwen2.5-VL-3B-Instruct        54\n",
       "llava-hf/llava-onevision-qwen2-7b-ov-hf    54\n",
       "Qwen/Qwen2.5-VL-7B-Instruct                54\n",
       "gpt-4o                                     54\n",
       "Name: count, dtype: int64"
      ]
     },
     "execution_count": 3,
     "metadata": {},
     "output_type": "execute_result"
    }
   ],
   "source": [
    "df[\"vlm_id\"].value_counts()"
   ]
  },
  {
   "cell_type": "code",
   "execution_count": 4,
   "id": "f67c2f47",
   "metadata": {},
   "outputs": [
    {
     "data": {
      "text/plain": [
       "pred\n",
       "closer     106\n",
       "right      103\n",
       "left        53\n",
       "farther     24\n",
       "up          19\n",
       "error       16\n",
       "down         3\n",
       "Name: count, dtype: int64"
      ]
     },
     "execution_count": 4,
     "metadata": {},
     "output_type": "execute_result"
    }
   ],
   "source": [
    "df[\"pred\"].value_counts()"
   ]
  },
  {
   "cell_type": "code",
   "execution_count": 5,
   "id": "71c4b391",
   "metadata": {},
   "outputs": [
    {
     "data": {
      "text/plain": [
       "Index(['src_img_path', 'tgt_img_path', 'dof', 'sign', 'ref_obj', 'label',\n",
       "       'vlm_id', 'prompt_mode', 'prompt', 'answer', 'obj_desc', 'pred',\n",
       "       'is_correct', 'is_parse'],\n",
       "      dtype='object')"
      ]
     },
     "execution_count": 5,
     "metadata": {},
     "output_type": "execute_result"
    }
   ],
   "source": [
    "df.columns"
   ]
  },
  {
   "cell_type": "code",
   "execution_count": 6,
   "id": "6e2b3d66",
   "metadata": {},
   "outputs": [],
   "source": [
    "table = df.copy()\n",
    "\n",
    "# leave some blank for pre-process\n",
    "table[\"vlm_id\"] = table[\"vlm_id\"].apply(lambda model_id: model_id.split(\"/\")[-1])\n",
    "model_order = [\n",
    "    \"SpaceQwen2.5-VL-3B-Instruct\",\n",
    "    \"Idefics3-8B-Llama3\",\n",
    "    \"llava-onevision-qwen2-7b-ov-hf\",\n",
    "    \"Qwen2.5-VL-7B-Instruct\",\n",
    "    \"Qwen2.5-VL-72B-Instruct\",\n",
    "    \"gpt-4o\",\n",
    "]\n",
    "\n",
    "table[\"vlm_id\"] = pd.Categorical(table[\"vlm_id\"], categories=model_order, ordered=True)"
   ]
  },
  {
   "cell_type": "code",
   "execution_count": 7,
   "id": "fbff808b",
   "metadata": {},
   "outputs": [],
   "source": [
    "from sklearn.metrics import f1_score\n",
    "\n",
    "def _acc_f1(group):\n",
    "    acc = group[\"is_correct\"].mean()\n",
    "    return pd.Series({\"acc.\": acc})"
   ]
  },
  {
   "cell_type": "code",
   "execution_count": 8,
   "id": "fdc8dcdb",
   "metadata": {},
   "outputs": [
    {
     "name": "stderr",
     "output_type": "stream",
     "text": [
      "/local/user/1483801110/ipykernel_63363/763408026.py:1: FutureWarning: The default of observed=False is deprecated and will be changed to True in a future version of pandas. Pass observed=False to retain current behavior or observed=True to adopt the future default and silence this warning.\n",
      "  table = table.groupby([\"vlm_id\", \"prompt_mode\"]).apply(_acc_f1).reset_index().pivot(index=[\"vlm_id\"], columns=[\"prompt_mode\"], values=\"acc.\")\n",
      "/local/user/1483801110/ipykernel_63363/763408026.py:1: FutureWarning: DataFrameGroupBy.apply operated on the grouping columns. This behavior is deprecated, and in a future version of pandas the grouping columns will be excluded from the operation. Either pass `include_groups=False` to exclude the groupings or explicitly select the grouping columns after groupby to silence this warning.\n",
      "  table = table.groupby([\"vlm_id\", \"prompt_mode\"]).apply(_acc_f1).reset_index().pivot(index=[\"vlm_id\"], columns=[\"prompt_mode\"], values=\"acc.\")\n"
     ]
    },
    {
     "data": {
      "text/html": [
       "<div>\n",
       "<style scoped>\n",
       "    .dataframe tbody tr th:only-of-type {\n",
       "        vertical-align: middle;\n",
       "    }\n",
       "\n",
       "    .dataframe tbody tr th {\n",
       "        vertical-align: top;\n",
       "    }\n",
       "\n",
       "    .dataframe thead th {\n",
       "        text-align: right;\n",
       "    }\n",
       "</style>\n",
       "<table border=\"1\" class=\"dataframe\">\n",
       "  <thead>\n",
       "    <tr style=\"text-align: right;\">\n",
       "      <th>prompt_mode</th>\n",
       "      <th>0</th>\n",
       "      <th>1</th>\n",
       "    </tr>\n",
       "    <tr>\n",
       "      <th>vlm_id</th>\n",
       "      <th></th>\n",
       "      <th></th>\n",
       "    </tr>\n",
       "  </thead>\n",
       "  <tbody>\n",
       "    <tr>\n",
       "      <th>SpaceQwen2.5-VL-3B-Instruct</th>\n",
       "      <td>0.33</td>\n",
       "      <td>0.37</td>\n",
       "    </tr>\n",
       "    <tr>\n",
       "      <th>Idefics3-8B-Llama3</th>\n",
       "      <td>0.30</td>\n",
       "      <td>0.30</td>\n",
       "    </tr>\n",
       "    <tr>\n",
       "      <th>llava-onevision-qwen2-7b-ov-hf</th>\n",
       "      <td>0.33</td>\n",
       "      <td>0.33</td>\n",
       "    </tr>\n",
       "    <tr>\n",
       "      <th>Qwen2.5-VL-7B-Instruct</th>\n",
       "      <td>0.22</td>\n",
       "      <td>0.37</td>\n",
       "    </tr>\n",
       "    <tr>\n",
       "      <th>Qwen2.5-VL-72B-Instruct</th>\n",
       "      <td>0.37</td>\n",
       "      <td>0.33</td>\n",
       "    </tr>\n",
       "    <tr>\n",
       "      <th>gpt-4o</th>\n",
       "      <td>0.19</td>\n",
       "      <td>0.22</td>\n",
       "    </tr>\n",
       "  </tbody>\n",
       "</table>\n",
       "</div>"
      ],
      "text/plain": [
       "prompt_mode                        0     1\n",
       "vlm_id                                    \n",
       "SpaceQwen2.5-VL-3B-Instruct     0.33  0.37\n",
       "Idefics3-8B-Llama3              0.30  0.30\n",
       "llava-onevision-qwen2-7b-ov-hf  0.33  0.33\n",
       "Qwen2.5-VL-7B-Instruct          0.22  0.37\n",
       "Qwen2.5-VL-72B-Instruct         0.37  0.33\n",
       "gpt-4o                          0.19  0.22"
      ]
     },
     "execution_count": 8,
     "metadata": {},
     "output_type": "execute_result"
    }
   ],
   "source": [
    "table = table.groupby([\"vlm_id\", \"prompt_mode\"]).apply(_acc_f1).reset_index().pivot(index=[\"vlm_id\"], columns=[\"prompt_mode\"], values=\"acc.\")\n",
    "table = (table).round(2)\n",
    "\n",
    "table"
   ]
  },
  {
   "cell_type": "code",
   "execution_count": 9,
   "id": "3c227a13",
   "metadata": {},
   "outputs": [],
   "source": [
    "# post-process\n",
    "\n",
    "table.index.name = \"Model\"\n",
    "table.columns.name = \"Strategy\"\n",
    "table.columns = [\"w/o Ref. Obj.\", \"w/ Ref. Obj.\"]"
   ]
  },
  {
   "cell_type": "code",
   "execution_count": 10,
   "id": "35ff37d2",
   "metadata": {},
   "outputs": [
    {
     "data": {
      "text/html": [
       "<div>\n",
       "<style scoped>\n",
       "    .dataframe tbody tr th:only-of-type {\n",
       "        vertical-align: middle;\n",
       "    }\n",
       "\n",
       "    .dataframe tbody tr th {\n",
       "        vertical-align: top;\n",
       "    }\n",
       "\n",
       "    .dataframe thead th {\n",
       "        text-align: right;\n",
       "    }\n",
       "</style>\n",
       "<table border=\"1\" class=\"dataframe\">\n",
       "  <thead>\n",
       "    <tr style=\"text-align: right;\">\n",
       "      <th></th>\n",
       "      <th>w/o Ref. Obj.</th>\n",
       "      <th>w/ Ref. Obj.</th>\n",
       "    </tr>\n",
       "    <tr>\n",
       "      <th>Model</th>\n",
       "      <th></th>\n",
       "      <th></th>\n",
       "    </tr>\n",
       "  </thead>\n",
       "  <tbody>\n",
       "    <tr>\n",
       "      <th>SpaceQwen2.5-VL-3B-Instruct</th>\n",
       "      <td>0.33</td>\n",
       "      <td>0.37</td>\n",
       "    </tr>\n",
       "    <tr>\n",
       "      <th>Idefics3-8B-Llama3</th>\n",
       "      <td>0.30</td>\n",
       "      <td>0.30</td>\n",
       "    </tr>\n",
       "    <tr>\n",
       "      <th>llava-onevision-qwen2-7b-ov-hf</th>\n",
       "      <td>0.33</td>\n",
       "      <td>0.33</td>\n",
       "    </tr>\n",
       "    <tr>\n",
       "      <th>Qwen2.5-VL-7B-Instruct</th>\n",
       "      <td>0.22</td>\n",
       "      <td>0.37</td>\n",
       "    </tr>\n",
       "    <tr>\n",
       "      <th>Qwen2.5-VL-72B-Instruct</th>\n",
       "      <td>0.37</td>\n",
       "      <td>0.33</td>\n",
       "    </tr>\n",
       "    <tr>\n",
       "      <th>gpt-4o</th>\n",
       "      <td>0.19</td>\n",
       "      <td>0.22</td>\n",
       "    </tr>\n",
       "  </tbody>\n",
       "</table>\n",
       "</div>"
      ],
      "text/plain": [
       "                                w/o Ref. Obj.  w/ Ref. Obj.\n",
       "Model                                                      \n",
       "SpaceQwen2.5-VL-3B-Instruct              0.33          0.37\n",
       "Idefics3-8B-Llama3                       0.30          0.30\n",
       "llava-onevision-qwen2-7b-ov-hf           0.33          0.33\n",
       "Qwen2.5-VL-7B-Instruct                   0.22          0.37\n",
       "Qwen2.5-VL-72B-Instruct                  0.37          0.33\n",
       "gpt-4o                                   0.19          0.22"
      ]
     },
     "execution_count": 10,
     "metadata": {},
     "output_type": "execute_result"
    }
   ],
   "source": [
    "table"
   ]
  },
  {
   "cell_type": "code",
   "execution_count": 11,
   "id": "ca9b7887",
   "metadata": {},
   "outputs": [
    {
     "name": "stdout",
     "output_type": "stream",
     "text": [
      "\\begin{tabular}{lrr}\n",
      "\\toprule\n",
      " & w/o Ref. Obj. & w/ Ref. Obj. \\\\\n",
      "Model &  &  \\\\\n",
      "\\midrule\n",
      "SpaceQwen2.5-VL-3B-Instruct & 0.33 & 0.37 \\\\\n",
      "Idefics3-8B-Llama3 & 0.30 & 0.30 \\\\\n",
      "llava-onevision-qwen2-7b-ov-hf & 0.33 & 0.33 \\\\\n",
      "Qwen2.5-VL-7B-Instruct & 0.22 & 0.37 \\\\\n",
      "Qwen2.5-VL-72B-Instruct & 0.37 & 0.33 \\\\\n",
      "gpt-4o & 0.19 & 0.22 \\\\\n",
      "\\bottomrule\n",
      "\\end{tabular}\n",
      "\n"
     ]
    }
   ],
   "source": [
    "print(table.to_latex(\n",
    "    float_format=\"%.2f\",\n",
    "))"
   ]
  },
  {
   "cell_type": "code",
   "execution_count": null,
   "id": "cc09adb9",
   "metadata": {},
   "outputs": [],
   "source": []
  }
 ],
 "metadata": {
  "kernelspec": {
   "display_name": "spatial_reasoning_env",
   "language": "python",
   "name": "python3"
  },
  "language_info": {
   "codemirror_mode": {
    "name": "ipython",
    "version": 3
   },
   "file_extension": ".py",
   "mimetype": "text/x-python",
   "name": "python",
   "nbconvert_exporter": "python",
   "pygments_lexer": "ipython3",
   "version": "3.10.18"
  }
 },
 "nbformat": 4,
 "nbformat_minor": 5
}
